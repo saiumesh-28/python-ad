{
  "nbformat": 4,
  "nbformat_minor": 0,
  "metadata": {
    "colab": {
      "provenance": [],
      "authorship_tag": "ABX9TyPqUgNlwHq8QoXz7FOIeAVB",
      "include_colab_link": true
    },
    "kernelspec": {
      "name": "python3",
      "display_name": "Python 3"
    },
    "language_info": {
      "name": "python"
    }
  },
  "cells": [
    {
      "cell_type": "markdown",
      "metadata": {
        "id": "view-in-github",
        "colab_type": "text"
      },
      "source": [
        "<a href=\"https://colab.research.google.com/github/saiumesh-28/python-ad/blob/main/normalization.ipynb\" target=\"_parent\"><img src=\"https://colab.research.google.com/assets/colab-badge.svg\" alt=\"Open In Colab\"/></a>"
      ]
    },
    {
      "cell_type": "code",
      "execution_count": 1,
      "metadata": {
        "colab": {
          "base_uri": "https://localhost:8080/"
        },
        "id": "T4Ssl9mLI7Sg",
        "outputId": "0e6159ae-4794-4802-bcd4-b41bb6dba135"
      },
      "outputs": [
        {
          "output_type": "stream",
          "name": "stdout",
          "text": [
            "Normalized Data\n",
            "        Age    Height  Weight\n",
            "0  0.000000  0.333333    0.20\n",
            "1  0.133333  0.666667    0.00\n",
            "2  0.333333  0.500000    1.00\n",
            "3  0.466667  0.000000    0.16\n",
            "4  1.000000  1.000000    0.60\n"
          ]
        }
      ],
      "source": [
        "import pandas as pd\n",
        "from sklearn.preprocessing import MinMaxScaler\n",
        "data = {\n",
        "    \"Age\" :[25,27,30,32,40],\n",
        "    \"Height\":[150,170,160,130,190],\n",
        "    \"Weight\":[50,45,70,49,60],\n",
        "}\n",
        "df = pd.DataFrame(data)\n",
        "scaler = MinMaxScaler()\n",
        "normalized_data = scaler.fit_transform(df)\n",
        "normalized_df = pd.DataFrame(normalized_data, columns = df.columns)\n",
        "print(\"Normalized Data\")\n",
        "print(normalized_df)"
      ]
    }
  ]
}