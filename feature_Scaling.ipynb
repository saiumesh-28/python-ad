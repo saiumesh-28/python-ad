{
  "nbformat": 4,
  "nbformat_minor": 0,
  "metadata": {
    "colab": {
      "provenance": [],
      "authorship_tag": "ABX9TyMfOe2q8oT6eas95VugcZtg",
      "include_colab_link": true
    },
    "kernelspec": {
      "name": "python3",
      "display_name": "Python 3"
    },
    "language_info": {
      "name": "python"
    }
  },
  "cells": [
    {
      "cell_type": "markdown",
      "metadata": {
        "id": "view-in-github",
        "colab_type": "text"
      },
      "source": [
        "<a href=\"https://colab.research.google.com/github/saiumesh-28/python-ad/blob/main/feature_Scaling.ipynb\" target=\"_parent\"><img src=\"https://colab.research.google.com/assets/colab-badge.svg\" alt=\"Open In Colab\"/></a>"
      ]
    },
    {
      "source": [
        "import pandas as pd\n",
        "from sklearn.preprocessing import MinMaxScaler # Corrected the typo: MinmaxScaler to MinMaxScaler\n",
        "\n",
        "data = {\n",
        "    \"age\": [25, 30, 35, 40, 45],\n",
        "    \"height\": [150, 160, 170, 180, 190],\n",
        "    \"weight\": [50, 60, 70, 80, 90],\n",
        "}\n",
        "df = pd.DataFrame(data)\n",
        "print(df)\n",
        "\n",
        "# Create a MinMaxScaler object\n",
        "scaler = MinMaxScaler()  # Assign the MinMaxScaler object to the variable 'scaler'\n",
        "\n",
        "# Fit and transform the data\n",
        "scaled_data = scaler.fit_transform(df)\n",
        "\n",
        "# Create a DataFrame from the scaled data\n",
        "normalized_df = pd.DataFrame(scaled_data, columns=df.columns)  # Changed normalized_data to normalized_df\n",
        "\n",
        "print(\"\\nNormalized DataFrame (scaled to range [0, 1]):\")\n",
        "print(normalized_df)"
      ],
      "cell_type": "code",
      "metadata": {
        "colab": {
          "base_uri": "https://localhost:8080/"
        },
        "id": "KcmVkWimF_ka",
        "outputId": "9c9dbc0c-46c4-4dad-d530-cce63579957d"
      },
      "execution_count": null,
      "outputs": [
        {
          "output_type": "stream",
          "name": "stdout",
          "text": [
            "   age  height  weight\n",
            "0   25     150      50\n",
            "1   30     160      60\n",
            "2   35     170      70\n",
            "3   40     180      80\n",
            "4   45     190      90\n",
            "\n",
            "Normalized DataFrame (scaled to range [0, 1]):\n",
            "    age  height  weight\n",
            "0  0.00    0.00    0.00\n",
            "1  0.25    0.25    0.25\n",
            "2  0.50    0.50    0.50\n",
            "3  0.75    0.75    0.75\n",
            "4  1.00    1.00    1.00\n"
          ]
        }
      ]
    },
    {
      "cell_type": "code",
      "source": [],
      "metadata": {
        "id": "e7RUFMewGcgK"
      },
      "execution_count": null,
      "outputs": []
    },
    {
      "source": [
        "import pandas as pd\n",
        "from sklearn.preprocessing import LabelEncoder\n",
        "\n",
        "# Sample data\n",
        "data = {\n",
        "    \"customer_id\":[1, 2, 3, 4],\n",
        "    \"gender\": [\"male\", \"female\", \"male\", \"female\"],\n",
        "    \"friuts\":[\"apple\", \"bannana\", \"mango\", \"gova\"],\n",
        "}\n",
        "\n",
        "# Creating DataFrame\n",
        "df = pd.DataFrame(data)\n",
        "print(\"Original DataFrame:\")\n",
        "print(df)\n",
        "\n",
        "# Initialize LabelEncoder\n",
        "label_encoder = LabelEncoder()\n",
        "\n",
        "# Applying LabelEncoder on 'gender' and 'city'\n",
        "df['gender_encoded'] = label_encoder.fit_transform(df['gender'])\n",
        "df['friuts_encoded'] = label_encoder.fit_transform(df['friuts'])\n",
        "\n",
        "print(\"\\nDataFrame after Label Encoding:\")\n",
        "print(df)\n"
      ],
      "cell_type": "code",
      "metadata": {
        "colab": {
          "base_uri": "https://localhost:8080/"
        },
        "id": "uCaNL1BEQSwC",
        "outputId": "f90a8293-c03d-4b52-9fb2-9643bee683ed"
      },
      "execution_count": 8,
      "outputs": [
        {
          "output_type": "stream",
          "name": "stdout",
          "text": [
            "Original DataFrame:\n",
            "   customer_id  gender   friuts\n",
            "0            1    male    apple\n",
            "1            2  female  bannana\n",
            "2            3    male    mango\n",
            "3            4  female     gova\n",
            "\n",
            "DataFrame after Label Encoding:\n",
            "   customer_id  gender   friuts  gender_encoded  friuts_encoded\n",
            "0            1    male    apple               1               0\n",
            "1            2  female  bannana               0               1\n",
            "2            3    male    mango               1               3\n",
            "3            4  female     gova               0               2\n"
          ]
        }
      ]
    },
    {
      "cell_type": "code",
      "source": [
        "import pandas as pd\n",
        "\n",
        "# Dataset with added City column\n",
        "data = {\n",
        "    \"Customer_Id\": [1, 2, 3, 4],\n",
        "    \"Gender\": [\"Male\", \"Female\", \"Feale\", \"Male\"],\n",
        "    \"Subscription_Status\": [\"Active\", \"Inactive\", \"Active\", \"Inactive\"],\n",
        "    \"City\": [\"New York\", \"Los Angeles\", \"Chicago\", \"Houston\"]  # Added City data\n",
        "}\n",
        "\n",
        "df = pd.DataFrame(data)\n",
        "\n",
        "print(\"Original data with City:\")\n",
        "print(df)\n",
        "\n",
        "# ----- Encoding Gender -----\n",
        "# Replace typo 'Feale' with 'Female'\n",
        "df['Gender'] = df['Gender'].replace('Feale', 'Female')\n",
        "\n",
        "# Custom mapping for Gender encoding\n",
        "gender_mapping = {\"Male\": 1, \"Female\": 0}\n",
        "df['gender_encoded'] = df['Gender'].map(gender_mapping)\n",
        "df['gender_encoded'] = df['gender_encoded'].astype(int)\n",
        "\n",
        "# ----- Encoding City -----\n",
        "# Get unique cities\n",
        "unique_cities = df['City'].unique()\n",
        "\n",
        "# Create new columns for each city and set to 1 if city is present\n",
        "for city in unique_cities:\n",
        "    df[city.replace(\" \", \"_\")] = (df['City'] == city).astype(int)  # Assign 1 if city matches, replace spaces in column names\n",
        "\n",
        "# Display the modified DataFrame\n",
        "print(\"\\nData with encoded gender and City (positive 1 and 0):\")\n",
        "print(df)"
      ],
      "metadata": {
        "colab": {
          "base_uri": "https://localhost:8080/"
        },
        "id": "9Cjej2WIPFu3",
        "outputId": "32100bac-219f-450f-ea37-f7daa6e939e9"
      },
      "execution_count": 2,
      "outputs": [
        {
          "output_type": "stream",
          "name": "stdout",
          "text": [
            "Original data with City:\n",
            "   Customer_Id  Gender Subscription_Status         City\n",
            "0            1    Male              Active     New York\n",
            "1            2  Female            Inactive  Los Angeles\n",
            "2            3   Feale              Active      Chicago\n",
            "3            4    Male            Inactive      Houston\n",
            "\n",
            "Data with encoded gender and City (positive 1 and 0):\n",
            "   Customer_Id  Gender Subscription_Status         City  gender_encoded  \\\n",
            "0            1    Male              Active     New York               1   \n",
            "1            2  Female            Inactive  Los Angeles               0   \n",
            "2            3  Female              Active      Chicago               0   \n",
            "3            4    Male            Inactive      Houston               1   \n",
            "\n",
            "   New_York  Los_Angeles  Chicago  Houston  \n",
            "0         1            0        0        0  \n",
            "1         0            1        0        0  \n",
            "2         0            0        1        0  \n",
            "3         0            0        0        1  \n"
          ]
        }
      ]
    }
  ]
}