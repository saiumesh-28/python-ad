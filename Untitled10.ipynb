{
  "nbformat": 4,
  "nbformat_minor": 0,
  "metadata": {
    "colab": {
      "provenance": [],
      "authorship_tag": "ABX9TyOPFGqCtoHh0AX4g77MNctt",
      "include_colab_link": true
    },
    "kernelspec": {
      "name": "python3",
      "display_name": "Python 3"
    },
    "language_info": {
      "name": "python"
    }
  },
  "cells": [
    {
      "cell_type": "markdown",
      "metadata": {
        "id": "view-in-github",
        "colab_type": "text"
      },
      "source": [
        "<a href=\"https://colab.research.google.com/github/saiumesh-28/python-ad/blob/main/Untitled10.ipynb\" target=\"_parent\"><img src=\"https://colab.research.google.com/assets/colab-badge.svg\" alt=\"Open In Colab\"/></a>"
      ]
    },
    {
      "cell_type": "code",
      "source": [],
      "metadata": {
        "id": "W8D56w0JCKmk"
      },
      "execution_count": null,
      "outputs": []
    },
    {
      "cell_type": "markdown",
      "source": [
        "**bold text**"
      ],
      "metadata": {
        "id": "k2B_cG8DGCwY"
      }
    },
    {
      "cell_type": "markdown",
      "source": [
        "find cab predication price (y) by   considering x value (no.of km traveleed(20))\n",
        "and per km is fixed one(m) as 2 and fixed price as that is fare is c value is 5\n",
        " compare the prices of ola and  uber which one low price and by considering the below following things\n",
        "y=mx+c\n",
        "fare of the price is 5\n",
        "no.of km traveled(20)\n",
        "ola:base price is 50\n",
        "uber:base price is 35\n",
        "    fare price : *50*"
      ],
      "metadata": {
        "id": "FMb8i0pEGHlr"
      }
    },
    {
      "cell_type": "code",
      "source": [],
      "metadata": {
        "id": "0sMpuKCYEp-o"
      },
      "execution_count": null,
      "outputs": []
    },
    {
      "cell_type": "code",
      "source": [
        "\n",
        "def calculate_price(m, x, c):\n",
        "    return m * x + c\n",
        "m = 2\n",
        "x = 20\n",
        "c = 5\n",
        "\n",
        "fare_price = calculate_price(m, x, c)\n",
        "\n",
        "ola_base_price = 50\n",
        "uber_base_price = 35\n",
        "\n",
        "ola_total_price = ola_base_price + fare_price\n",
        "\n",
        "uber_total_price = uber_base_price + fare_price\n",
        "\n",
        "print(f\"Fare predicted for 20 km: {fare_price}\")\n",
        "print(f\"Ola total price: {ola_total_price}\")\n",
        "print(f\"Uber total price: {uber_total_price}\")\n",
        "\n",
        "if ola_total_price < uber_total_price:\n",
        "    print(\"Ola is cheaper.\")\n",
        "else:\n",
        "    print(\"Uber is cheaper.\")\n"
      ],
      "metadata": {
        "colab": {
          "base_uri": "https://localhost:8080/"
        },
        "id": "LlJs57YXDg5C",
        "outputId": "b09ed157-0d93-40e9-eb46-652669b18b55"
      },
      "execution_count": 2,
      "outputs": [
        {
          "output_type": "stream",
          "name": "stdout",
          "text": [
            "Fare predicted for 20 km: 45\n",
            "Ola total price: 95\n",
            "Uber total price: 80\n",
            "Uber is cheaper.\n"
          ]
        }
      ]
    }
  ]
}