{
 "cells": [
  {
   "cell_type": "code",
   "execution_count": 6,
   "id": "04b695b1-2cc6-4a26-9ab5-6844f0131e7c",
   "metadata": {},
   "outputs": [
    {
     "name": "stdout",
     "output_type": "stream",
     "text": [
      "{0, 1, 8, 9, 10}\n",
      "<class 'set'>\n"
     ]
    }
   ],
   "source": [
    "#Set printing and printing type \n",
    "s1 = {1,8,9,0,10,9,0,1,9}\n",
    "print(s1)\n",
    "print(type(s1))"
   ]
  },
  {
   "cell_type": "code",
   "execution_count": 8,
   "id": "a4a102de-12fe-4864-b84b-6984b613daf3",
   "metadata": {},
   "outputs": [],
   "source": [
    "lst1 = [1,8,9,0,10,20,78,8,8,8]"
   ]
  },
  {
   "cell_type": "code",
   "execution_count": 10,
   "id": "75ba8e7d-c12e-40cc-8c40-c77834afec22",
   "metadata": {},
   "outputs": [
    {
     "name": "stdout",
     "output_type": "stream",
     "text": [
      "{0, 1, 8, 9, 10, 78, 20}\n",
      "<class 'set'>\n"
     ]
    }
   ],
   "source": [
    "s2 = set(lst1)\n",
    "print(s2)\n",
    "print(type(s2))"
   ]
  },
  {
   "cell_type": "code",
   "execution_count": 12,
   "id": "f3a90a7f-0879-497a-81b8-94f76e3be502",
   "metadata": {},
   "outputs": [],
   "source": [
    "#Union operation using | operator\n",
    "s1 = {1,2,3,4}\n",
    "s2 = {3,4,5,6}"
   ]
  },
  {
   "cell_type": "code",
   "execution_count": 14,
   "id": "8033fdcc-b721-453d-beb0-26d1480255e5",
   "metadata": {},
   "outputs": [
    {
     "data": {
      "text/plain": [
       "{1, 2, 3, 4, 5, 6}"
      ]
     },
     "execution_count": 14,
     "metadata": {},
     "output_type": "execute_result"
    }
   ],
   "source": [
    "#Using | operator\n",
    "s1 | s2"
   ]
  },
  {
   "cell_type": "code",
   "execution_count": 16,
   "id": "10447f76-ddfa-400f-b50c-b9056a6a51cd",
   "metadata": {},
   "outputs": [
    {
     "data": {
      "text/plain": [
       "{1, 2, 3, 4, 5, 6}"
      ]
     },
     "execution_count": 16,
     "metadata": {},
     "output_type": "execute_result"
    }
   ],
   "source": [
    "#Using .union method\n",
    "s1.union(s2)"
   ]
  },
  {
   "cell_type": "code",
   "execution_count": 18,
   "id": "934ea9dc-026b-433e-8c50-e08697e5e076",
   "metadata": {},
   "outputs": [],
   "source": [
    "#Intersection using & operator\n",
    "s1 = {1,2,3,4}\n",
    "s2 = {3,4,5,6}"
   ]
  },
  {
   "cell_type": "code",
   "execution_count": 20,
   "id": "8871c306-bb13-4d83-8765-f537166c8934",
   "metadata": {},
   "outputs": [
    {
     "data": {
      "text/plain": [
       "{3, 4}"
      ]
     },
     "execution_count": 20,
     "metadata": {},
     "output_type": "execute_result"
    }
   ],
   "source": [
    "s1 & s2"
   ]
  },
  {
   "cell_type": "code",
   "execution_count": 22,
   "id": "226b7f5b-f3b0-4939-9a81-e9800b10680a",
   "metadata": {},
   "outputs": [
    {
     "data": {
      "text/plain": [
       "{3, 4}"
      ]
     },
     "execution_count": 22,
     "metadata": {},
     "output_type": "execute_result"
    }
   ],
   "source": [
    "s1.intersection(s2)"
   ]
  },
  {
   "cell_type": "code",
   "execution_count": 40,
   "id": "50c0c340-8630-41d5-b773-cbecbe5ba4d1",
   "metadata": {},
   "outputs": [
    {
     "name": "stdout",
     "output_type": "stream",
     "text": [
      "{2, 3}\n",
      "set()\n"
     ]
    }
   ],
   "source": [
    "#differnce of two sets\n",
    "s1 = {2,3,5,6,7}\n",
    "s2 = {5,6,7}\n",
    "print(s1 - s2)\n",
    "print(s2 - s1)"
   ]
  },
  {
   "cell_type": "code",
   "execution_count": 30,
   "id": "bd035c95-647f-49ac-b530-eacebb2d4b82",
   "metadata": {},
   "outputs": [
    {
     "data": {
      "text/plain": [
       "{1, 2, 3, 6, 7, 8}"
      ]
     },
     "execution_count": 30,
     "metadata": {},
     "output_type": "execute_result"
    }
   ],
   "source": [
    "#Symmetric difference\n",
    "s1 = {1,2,3,4,5}\n",
    "s2 = {4,5,6,7,8}\n",
    "s1.symmetric_difference(s2)"
   ]
  },
  {
   "cell_type": "code",
   "execution_count": 32,
   "id": "453fbe67-4f06-4870-beaf-ca0571501916",
   "metadata": {},
   "outputs": [
    {
     "data": {
      "text/plain": [
       "{1, 2, 3, 6, 7, 8}"
      ]
     },
     "execution_count": 32,
     "metadata": {},
     "output_type": "execute_result"
    }
   ],
   "source": [
    "s1.symmetric_difference(s2)"
   ]
  },
  {
   "cell_type": "code",
   "execution_count": 44,
   "id": "8034a0eb-ec86-4ca6-b06e-87b605fe51b6",
   "metadata": {},
   "outputs": [
    {
     "name": "stdout",
     "output_type": "stream",
     "text": [
      "True\n",
      "False\n"
     ]
    }
   ],
   "source": [
    "#Subset and Superset\n",
    "s1 = {1,2,3,4,5}\n",
    "s2 = {1,2,3}\n",
    "print(s2.issubset(s1))\n",
    "print(s2.issuperset(s1))"
   ]
  },
  {
   "cell_type": "markdown",
   "id": "11899804-6a45-4913-95b9-994f7ec09d51",
   "metadata": {},
   "source": [
    "STRINGS"
   ]
  },
  {
   "cell_type": "code",
   "execution_count": 47,
   "id": "19c52e19-0857-4a59-9e76-3170c5560877",
   "metadata": {},
   "outputs": [
    {
     "name": "stdout",
     "output_type": "stream",
     "text": [
      "Welcome to aiml class\n",
      "We started with python\n",
      "This is an awesome class\n"
     ]
    }
   ],
   "source": [
    "str1 = 'Welcome to aiml class'\n",
    "print(str1)\n",
    "str2 = \"We started with python\"\n",
    "print(str2)\n",
    "str3 = '''This is an awesome class'''\n",
    "print(str3)"
   ]
  },
  {
   "cell_type": "code",
   "execution_count": 49,
   "id": "c90a304a-d7bb-4134-8cf2-044e47b15d73",
   "metadata": {},
   "outputs": [
    {
     "name": "stdout",
     "output_type": "stream",
     "text": [
      "<class 'str'>\n",
      "<class 'str'>\n",
      "<class 'str'>\n"
     ]
    }
   ],
   "source": [
    "#Printing type\n",
    "\n",
    "print(type(str1))\n",
    "print(type(str2))\n",
    "print(type(str3))"
   ]
  },
  {
   "cell_type": "code",
   "execution_count": 51,
   "id": "181d9dd0-8a97-46fe-99a7-077ed379421c",
   "metadata": {},
   "outputs": [
    {
     "name": "stdout",
     "output_type": "stream",
     "text": [
      "Welcome to aiml class\n"
     ]
    },
    {
     "data": {
      "text/plain": [
       "'me to'"
      ]
     },
     "execution_count": 51,
     "metadata": {},
     "output_type": "execute_result"
    }
   ],
   "source": [
    "#Slicing in strings\n",
    "print(str1)\n",
    "str1[5:10]"
   ]
  },
  {
   "cell_type": "code",
   "execution_count": 53,
   "id": "0e69f2ac-e712-4918-9524-df98ce068488",
   "metadata": {},
   "outputs": [
    {
     "name": "stdout",
     "output_type": "stream",
     "text": [
      "Welcome to aiml class\n"
     ]
    },
    {
     "data": {
      "text/plain": [
       "['Welcome', 'to', 'aiml', 'class']"
      ]
     },
     "execution_count": 53,
     "metadata": {},
     "output_type": "execute_result"
    }
   ],
   "source": [
    "#Use of split()\n",
    "print(str1)\n",
    "str1.split()"
   ]
  },
  {
   "cell_type": "code",
   "execution_count": 61,
   "id": "79c06673-293c-4d2f-b576-45f065d42a8b",
   "metadata": {},
   "outputs": [
    {
     "data": {
      "text/plain": [
       "'The product is awesome;Great Service'"
      ]
     },
     "execution_count": 61,
     "metadata": {},
     "output_type": "execute_result"
    }
   ],
   "source": [
    "#Use of join() method\n",
    "reviews = [\"The product is awesome\", \"Great Service\"]\n",
    "joined_string = ';'.join(reviews)\n",
    "joined_string"
   ]
  },
  {
   "cell_type": "code",
   "execution_count": 63,
   "id": "a86a8e20-b069-4a8a-879f-97386789bbfa",
   "metadata": {},
   "outputs": [
    {
     "data": {
      "text/plain": [
       "'  Hello,How are you?  '"
      ]
     },
     "execution_count": 63,
     "metadata": {},
     "output_type": "execute_result"
    }
   ],
   "source": [
    "#Use of strip() method\n",
    "str5 = \"  Hello,How are you?  \"\n",
    "str5"
   ]
  },
  {
   "cell_type": "code",
   "execution_count": 65,
   "id": "2c01e9a1-1aa9-4912-9206-9d2a70ec6006",
   "metadata": {},
   "outputs": [
    {
     "data": {
      "text/plain": [
       "'Hello,How are you?'"
      ]
     },
     "execution_count": 65,
     "metadata": {},
     "output_type": "execute_result"
    }
   ],
   "source": [
    "str5.strip()"
   ]
  },
  {
   "cell_type": "code",
   "execution_count": 67,
   "id": "397a761e-ce8a-41e7-8622-e084dc80d170",
   "metadata": {},
   "outputs": [
    {
     "data": {
      "text/plain": [
       "'hello,how are you?'"
      ]
     },
     "execution_count": 67,
     "metadata": {},
     "output_type": "execute_result"
    }
   ],
   "source": [
    "#Converting from upper to lower\n",
    "str5 = 'Hello,How are you?'\n",
    "str5.lower()"
   ]
  },
  {
   "cell_type": "code",
   "execution_count": 69,
   "id": "5e03c758-f372-4142-84c9-85cbb08ec993",
   "metadata": {},
   "outputs": [
    {
     "data": {
      "text/plain": [
       "'HELLO,HOW ARE YOU?'"
      ]
     },
     "execution_count": 69,
     "metadata": {},
     "output_type": "execute_result"
    }
   ],
   "source": [
    "#Lower to upper\n",
    "str5.upper()"
   ]
  },
  {
   "cell_type": "code",
   "execution_count": null,
   "id": "0d7fb140-eb01-4917-b153-5b94c2bf93c0",
   "metadata": {},
   "outputs": [],
   "source": []
  }
 ],
 "metadata": {
  "kernelspec": {
   "display_name": "Python [conda env:base] *",
   "language": "python",
   "name": "conda-base-py"
  },
  "language_info": {
   "codemirror_mode": {
    "name": "ipython",
    "version": 3
   },
   "file_extension": ".py",
   "mimetype": "text/x-python",
   "name": "python",
   "nbconvert_exporter": "python",
   "pygments_lexer": "ipython3",
   "version": "3.12.7"
  }
 },
 "nbformat": 4,
 "nbformat_minor": 5
}
