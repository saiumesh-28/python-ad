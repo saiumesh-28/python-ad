{
 "cells": [
  {
   "cell_type": "code",
   "execution_count": 8,
   "id": "84609295-1d49-4dbc-b41a-056058411710",
   "metadata": {},
   "outputs": [
    {
     "name": "stdout",
     "output_type": "stream",
     "text": [
      "Even\n"
     ]
    }
   ],
   "source": [
    "#Iteration statements using IF and ELSE\n",
    "num = 6\n",
    "if num%2 == 0:\n",
    "    print(\"Even\")\n",
    "\n",
    "else:\n",
    "    print(\"Odd\")"
   ]
  },
  {
   "cell_type": "code",
   "execution_count": 6,
   "id": "921d10a4-e958-4065-a386-5c1c03756f4c",
   "metadata": {},
   "outputs": [
    {
     "name": "stdout",
     "output_type": "stream",
     "text": [
      "Even\n"
     ]
    }
   ],
   "source": [
    "#Writing if else statements in a single line\n",
    "print(\"Even\") if num%2==0 else print(\"Odd\")"
   ]
  },
  {
   "cell_type": "markdown",
   "id": "22355f70-6825-4b76-b733-1074b0441f58",
   "metadata": {},
   "source": [
    "Nested if-else in one line"
   ]
  },
  {
   "cell_type": "code",
   "execution_count": 11,
   "id": "d46a8ffc-3d9c-481c-99c3-3207e5bc488b",
   "metadata": {},
   "outputs": [
    {
     "name": "stdout",
     "output_type": "stream",
     "text": [
      "Zero\n"
     ]
    }
   ],
   "source": [
    "num = 0 \n",
    "result = \"Positive\" if num>0 else (\"Negative\" if num <0 else \"Zero\")\n",
    "print(result)"
   ]
  },
  {
   "cell_type": "markdown",
   "id": "1a7ffba1-1910-4cb1-aa8e-edf16951f3f5",
   "metadata": {},
   "source": [
    " List comprehension"
   ]
  },
  {
   "cell_type": "code",
   "execution_count": 14,
   "id": "543d626e-1ffa-43be-8bae-9338c770155a",
   "metadata": {},
   "outputs": [
    {
     "data": {
      "text/plain": [
       "[2, 18, 4, 20, 112, 178]"
      ]
     },
     "execution_count": 14,
     "metadata": {},
     "output_type": "execute_result"
    }
   ],
   "source": [
    "L = [1,9,2,10,56,89]\n",
    "[2*x for x in L]"
   ]
  },
  {
   "cell_type": "code",
   "execution_count": 16,
   "id": "32f3eec7-dce9-4d0e-95ee-4844403d522a",
   "metadata": {},
   "outputs": [
    {
     "data": {
      "text/plain": [
       "[2, 10, 56]"
      ]
     },
     "execution_count": 16,
     "metadata": {},
     "output_type": "execute_result"
    }
   ],
   "source": [
    "#to print even numbers from the list\n",
    "L = [1,9,2,10,56,89]\n",
    "[x for x in L if x%2==0]"
   ]
  },
  {
   "cell_type": "code",
   "execution_count": 18,
   "id": "0d424d4d-8816-4efe-b87d-8d6617060b31",
   "metadata": {},
   "outputs": [
    {
     "data": {
      "text/plain": [
       "[1, 9, 89]"
      ]
     },
     "execution_count": 18,
     "metadata": {},
     "output_type": "execute_result"
    }
   ],
   "source": [
    "#print odd numbers from the list\n",
    "L = [1,9,2,10,56,89]\n",
    "[x for x in L if x%2!=0]"
   ]
  },
  {
   "cell_type": "code",
   "execution_count": 34,
   "id": "9f821330-7e07-490c-9e3e-ab4252aa0d7e",
   "metadata": {},
   "outputs": [
    {
     "data": {
      "text/plain": [
       "27.833333333333332"
      ]
     },
     "execution_count": 34,
     "metadata": {},
     "output_type": "execute_result"
    }
   ],
   "source": [
    "#print the average value of list of numbers using list comprehension\n",
    "L = [1,9,2,10,56,89]\n",
    "sum([x for x in L ])/len(L)"
   ]
  },
  {
   "cell_type": "markdown",
   "id": "fcb1e76a-0029-47bb-bf1a-df6b95f62c80",
   "metadata": {},
   "source": [
    "Dictionary comprehension"
   ]
  },
  {
   "cell_type": "code",
   "execution_count": 37,
   "id": "83e20859-86d5-4eec-be71-5cb2f2f81376",
   "metadata": {},
   "outputs": [
    {
     "data": {
      "text/plain": [
       "{'Ram': [70, 71, 98, 100], 'John': [56, 98, 67, 65]}"
      ]
     },
     "execution_count": 37,
     "metadata": {},
     "output_type": "execute_result"
    }
   ],
   "source": [
    "d1 = {'Ram':[70,71,98,100] , 'John':[56,98,67,65]}\n",
    "d1"
   ]
  },
  {
   "cell_type": "code",
   "execution_count": 40,
   "id": "61e81f1c-8431-443f-ba94-c1ec7e66e24f",
   "metadata": {},
   "outputs": [
    {
     "data": {
      "text/plain": [
       "{'Ram': 84.75, 'John': 71.5}"
      ]
     },
     "execution_count": 40,
     "metadata": {},
     "output_type": "execute_result"
    }
   ],
   "source": [
    "{k:sum(v)/len(v) for k,v in d1.items()}"
   ]
  },
  {
   "cell_type": "code",
   "execution_count": null,
   "id": "a8ffe464-a5df-474f-97ed-60c00393e087",
   "metadata": {},
   "outputs": [],
   "source": []
  }
 ],
 "metadata": {
  "kernelspec": {
   "display_name": "Python [conda env:base] *",
   "language": "python",
   "name": "conda-base-py"
  },
  "language_info": {
   "codemirror_mode": {
    "name": "ipython",
    "version": 3
   },
   "file_extension": ".py",
   "mimetype": "text/x-python",
   "name": "python",
   "nbconvert_exporter": "python",
   "pygments_lexer": "ipython3",
   "version": "3.12.7"
  }
 },
 "nbformat": 4,
 "nbformat_minor": 5
}
