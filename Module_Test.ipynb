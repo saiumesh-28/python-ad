{
 "cells": [
  {
   "cell_type": "code",
   "execution_count": 9,
   "id": "54c3a858-81ee-412f-91ff-c725eb75c1ae",
   "metadata": {},
   "outputs": [],
   "source": [
    "import Compute"
   ]
  },
  {
   "cell_type": "code",
   "execution_count": 11,
   "id": "ca222bf3-8d83-43aa-853f-a4ecfdcedc96",
   "metadata": {
    "panel-layout": {
     "height": 27.14285659790039,
     "visible": true,
     "width": 100
    }
   },
   "outputs": [
    {
     "data": {
      "text/plain": [
       "3.5"
      ]
     },
     "execution_count": 11,
     "metadata": {},
     "output_type": "execute_result"
    }
   ],
   "source": [
    "Compute.mean_value(2,3,4,5)"
   ]
  },
  {
   "cell_type": "code",
   "execution_count": 13,
   "id": "c7eabf5d-b2d2-4697-9e38-0446aad79d2e",
   "metadata": {},
   "outputs": [
    {
     "data": {
      "text/plain": [
       "120"
      ]
     },
     "execution_count": 13,
     "metadata": {},
     "output_type": "execute_result"
    }
   ],
   "source": [
    "Compute.product(1,2,3,4,5)"
   ]
  },
  {
   "cell_type": "code",
   "execution_count": null,
   "id": "4f384149-088f-4717-b14d-8d9d833dd009",
   "metadata": {},
   "outputs": [],
   "source": []
  }
 ],
 "metadata": {
  "kernelspec": {
   "display_name": "Python [conda env:base] *",
   "language": "python",
   "name": "conda-base-py"
  },
  "language_info": {
   "codemirror_mode": {
    "name": "ipython",
    "version": 3
   },
   "file_extension": ".py",
   "mimetype": "text/x-python",
   "name": "python",
   "nbconvert_exporter": "python",
   "pygments_lexer": "ipython3",
   "version": "3.12.7"
  },
  "panel-cell-order": [
   "ca222bf3-8d83-43aa-853f-a4ecfdcedc96"
  ]
 },
 "nbformat": 4,
 "nbformat_minor": 5
}
