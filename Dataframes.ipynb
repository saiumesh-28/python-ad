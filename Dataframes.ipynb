{
  "nbformat": 4,
  "nbformat_minor": 0,
  "metadata": {
    "colab": {
      "provenance": [],
      "authorship_tag": "ABX9TyP99iV0zJEQ6GjjvN2168w7",
      "include_colab_link": true
    },
    "kernelspec": {
      "name": "python3",
      "display_name": "Python 3"
    },
    "language_info": {
      "name": "python"
    }
  },
  "cells": [
    {
      "cell_type": "markdown",
      "metadata": {
        "id": "view-in-github",
        "colab_type": "text"
      },
      "source": [
        "<a href=\"https://colab.research.google.com/github/saiumesh-28/python-ad/blob/main/Dataframes.ipynb\" target=\"_parent\"><img src=\"https://colab.research.google.com/assets/colab-badge.svg\" alt=\"Open In Colab\"/></a>"
      ]
    },
    {
      "cell_type": "code",
      "execution_count": 5,
      "metadata": {
        "colab": {
          "base_uri": "https://localhost:8080/"
        },
        "id": "ikeOXAalphLU",
        "outputId": "ef3d39fc-246b-4a81-98b6-ab439cc595ef"
      },
      "outputs": [
        {
          "output_type": "stream",
          "name": "stdout",
          "text": [
            "{'screen_time': [1, 2, 5, 6], 'stu_name': ['aa', 'bb', 'cc', 'dd'], 'id': [2, 5, 1, 6]}\n",
            "   screen_time stu_name  id\n",
            "0            1       aa   2\n",
            "1            2       bb   5\n",
            "2            5       cc   1\n",
            "3            6       dd   6\n"
          ]
        }
      ],
      "source": [
        "import pandas as pd\n",
        "screen_time= [1,2,5,6,]\n",
        "stu_name = [\"aa\",\"bb\",\"cc\",\"dd\"]\n",
        "id = [2,5,1,6]\n",
        "dict1 = {\"screen_time\":screen_time,\"stu_name\":stu_name,\"id\":id}\n",
        "print(dict1)\n",
        "df = pd.DataFrame(dict1)\n",
        "print(df)"
      ]
    }
  ]
}