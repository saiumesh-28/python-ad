{
 "cells": [
  {
   "cell_type": "code",
   "execution_count": 1,
   "id": "9adcaacc-2c80-42a2-abf3-0d8a55d61724",
   "metadata": {},
   "outputs": [
    {
     "name": "stdout",
     "output_type": "stream",
     "text": [
      "Integer variable: 10, Type: <class 'int'>\n",
      "Float variable: 3.14, Type: <class 'float'>\n",
      "String variable: Hello, World, Type: <class 'str'>\n",
      "Boolean variable: True, Type: <class 'bool'>\n"
     ]
    }
   ],
   "source": [
    "# Declare variables of different data types\n",
    "integer_var = 10            # Integer\n",
    "float_var = 3.14            # Float\n",
    "string_var = \"Hello, World\" # String\n",
    "boolean_var = True          # Boolean\n",
    "\n",
    "# Print each variable and its type\n",
    "print(f\"Integer variable: {integer_var}, Type: {type(integer_var)}\")\n",
    "print(f\"Float variable: {float_var}, Type: {type(float_var)}\")\n",
    "print(f\"String variable: {string_var}, Type: {type(string_var)}\")\n",
    "print(f\"Boolean variable: {boolean_var}, Type: {type(boolean_var)}\")\n"
   ]
  },
  {
   "cell_type": "code",
   "execution_count": null,
   "id": "8b2fe1d9-228e-4d96-bf2a-830f17a7a04c",
   "metadata": {},
   "outputs": [],
   "source": []
  }
 ],
 "metadata": {
  "kernelspec": {
   "display_name": "Python [conda env:base] *",
   "language": "python",
   "name": "conda-base-py"
  },
  "language_info": {
   "codemirror_mode": {
    "name": "ipython",
    "version": 3
   },
   "file_extension": ".py",
   "mimetype": "text/x-python",
   "name": "python",
   "nbconvert_exporter": "python",
   "pygments_lexer": "ipython3",
   "version": "3.12.7"
  }
 },
 "nbformat": 4,
 "nbformat_minor": 5
}
